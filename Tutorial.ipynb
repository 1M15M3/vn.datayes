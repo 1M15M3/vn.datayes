{
 "cells": [
  {
   "cell_type": "markdown",
   "metadata": {},
   "source": [
    "#vn.past.demo - Welcome!\n",
    "\n",
    "---\n",
    "\n",
    "### 1. Preface\n",
    "past 是一个从属于vn.trader的市场历史数据解决方案模块。主要功能为：\n",
    "\n",
    "* 从datayes（通联数据）等web数据源高效地爬取、更新历史数据。\n",
    "* 基于MongoDB的数据库管理、快速查询，各种输出格式的转换。\n",
    "* 基于Matplotlib快速绘制K线图等可视化对象。\n",
    "\n",
    "**主要依赖**：pymongo，pandas，requests，json\n",
    "\n",
    "**开发测试环境**：\n",
    "* OS X 10.10 / Windows 7\n",
    "* Anaconda.Python 2.7\n",
    "---\n",
    "\n",
    "### 2. Get Started\n",
    "\n",
    "#### 2.1   使用前\n",
    "\n",
    "安装MongoDB: https://www.mongodb.org/downloads\n",
    "\n",
    "\n",
    "更新pymongo至3.0以上版本：\n",
    "\n",
    "\n",
    "\t~$ pip install pymongo --upgrade\n",
    "    \n",
    "    \n",
    "安装或更新requests：\n",
    "\n",
    "    ~$ pip install requests --upgrade\n",
    "    \n",
    "启动MongoDB：\n",
    "\n",
    "    ~$ mongod\n",
    "\n",
    "#### 2.2   首次使用\n",
    "Demo中目前加载了使用通联数据Api下载股票日线数据和期货合约日线数据的方法。\n",
    "\n",
    "首次使用时：\n",
    "\n",
    "1. 用文本编辑器打开base.py，填写通联数据的用户token。\n",
    "\n",
    "2. 执行init.py初始化MongoDB数据库。即下载全部股票与期货合约日线数据并储存至MongoDB。默认的初始化数据跨度为：股票从2013年1月1日至2015年7月20日；期货合约从2015年1月1日至2015年7月20日。各使用最大30个CPU线程。根据网速的不同，下载会花费大概8到15分钟。\n",
    "\n",
    "---\n"
   ]
  },
  {
   "cell_type": "code",
   "execution_count": 84,
   "metadata": {
    "collapsed": false
   },
   "outputs": [
    {
     "name": "stdout",
     "output_type": "stream",
     "text": [
      "[DS]: MongoDB initialized.\n",
      "[DS]: MongoDB index set.\n"
     ]
    }
   ],
   "source": [
    "# init.py\n",
    "\n",
    "from base import *\n",
    "\n",
    "if __name__ == '__main__':\n",
    "\n",
    "    ds = DataGenerator()\n",
    "    ds.download()"
   ]
  },
  {
   "cell_type": "markdown",
   "metadata": {},
   "source": [
    "### 3. Methods\n",
    "\n",
    "#### 3.1 fetch\n",
    "* DataGenerator.fetch( ticker, start, end, field=-1, output='list' )\n",
    "    * ticker: 字符串, 股票或期货合约代码。\n",
    "    * start, end: ‘yyyymmdd’ 格式字符串；查询时间起止点。\n",
    "    * field: 字符串列表，所选取的key。默认值为－1，选取所有key。\n",
    "    * output: 字符串，输出格式。默认为'list'，输出字典列表。可选的类型为：\n",
    "        * 'list'： 输出字典列表。\n",
    "        * 'df'： 输出pandas DataFrame。\n",
    "        * 'bar'： 输出本模块内建的Bar数据结构，为一个包含日期，开、收、高、低价格以及成交量的DataFrame，之后详细介绍。注意若选择输出bar，则参数field的值会被忽略。\n",
    "        \n",
    "---"
   ]
  },
  {
   "cell_type": "code",
   "execution_count": 85,
   "metadata": {
    "collapsed": false
   },
   "outputs": [
    {
     "name": "stdout",
     "output_type": "stream",
     "text": [
      "Finished in 0.00310802459717 seconds\n"
     ]
    },
    {
     "data": {
      "text/plain": [
       "[{u'closePrice': 13.92,\n",
       "  u'date': datetime.datetime(2015, 7, 1, 0, 0),\n",
       "  u'openPrice': 14.35},\n",
       " {u'closePrice': 14.54,\n",
       "  u'date': datetime.datetime(2015, 6, 30, 0, 0),\n",
       "  u'openPrice': 13.54},\n",
       " {u'closePrice': 13.56,\n",
       "  u'date': datetime.datetime(2015, 6, 29, 0, 0),\n",
       "  u'openPrice': 14.08},\n",
       " {u'closePrice': 13.77,\n",
       "  u'date': datetime.datetime(2015, 6, 26, 0, 0),\n",
       "  u'openPrice': 14.64},\n",
       " {u'closePrice': 14.87,\n",
       "  u'date': datetime.datetime(2015, 6, 25, 0, 0),\n",
       "  u'openPrice': 15.58}]"
      ]
     },
     "execution_count": 85,
     "metadata": {},
     "output_type": "execute_result"
    }
   ],
   "source": [
    "import time\n",
    "start_time = time.time()\n",
    "\n",
    "l = ds.fetch('000001','20150101','20150701',field=['closePrice','openPrice'],output='list') \n",
    "# 输出字典列表，股票代码为000001，选择closePrice和openPrice\n",
    "\n",
    "print 'Finished in',time.time()-start_time,'seconds' # 查询时间(秒)\n",
    "l[0:5]"
   ]
  },
  {
   "cell_type": "code",
   "execution_count": 86,
   "metadata": {
    "collapsed": false
   },
   "outputs": [
    {
     "data": {
      "text/html": [
       "<div style=\"max-height:1000px;max-width:1500px;overflow:auto;\">\n",
       "<table border=\"1\" class=\"dataframe\">\n",
       "  <thead>\n",
       "    <tr style=\"text-align: right;\">\n",
       "      <th></th>\n",
       "      <th>CHG</th>\n",
       "      <th>CHG1</th>\n",
       "      <th>CHGPct</th>\n",
       "      <th>closePrice</th>\n",
       "      <th>contractMark</th>\n",
       "      <th>contractObject</th>\n",
       "      <th>date</th>\n",
       "      <th>exchangeCD</th>\n",
       "      <th>highestPrice</th>\n",
       "      <th>lowestPrice</th>\n",
       "      <th>...</th>\n",
       "      <th>preClosePrice</th>\n",
       "      <th>preSettlePrice</th>\n",
       "      <th>secID</th>\n",
       "      <th>secShortName</th>\n",
       "      <th>settlePrice</th>\n",
       "      <th>smainCon</th>\n",
       "      <th>ticker</th>\n",
       "      <th>tradeDate</th>\n",
       "      <th>turnoverValue</th>\n",
       "      <th>turnoverVol</th>\n",
       "    </tr>\n",
       "  </thead>\n",
       "  <tbody>\n",
       "    <tr>\n",
       "      <th>0</th>\n",
       "      <td> -78.2</td>\n",
       "      <td> -60.6</td>\n",
       "      <td>-0.016891</td>\n",
       "      <td> 4551.6</td>\n",
       "      <td> L6</td>\n",
       "      <td> IF</td>\n",
       "      <td>2015-04-20</td>\n",
       "      <td> CCFX</td>\n",
       "      <td> 4715.6</td>\n",
       "      <td> 4536.4</td>\n",
       "      <td>...</td>\n",
       "      <td>    0.0</td>\n",
       "      <td> 4629.8</td>\n",
       "      <td> IF1512.CCFX</td>\n",
       "      <td> 沪深300股指期货1512</td>\n",
       "      <td> 4569.2</td>\n",
       "      <td> 0</td>\n",
       "      <td> IF1512</td>\n",
       "      <td> 2015-04-20</td>\n",
       "      <td> 4106191020</td>\n",
       "      <td> 2950</td>\n",
       "    </tr>\n",
       "    <tr>\n",
       "      <th>1</th>\n",
       "      <td> 100.8</td>\n",
       "      <td>  84.4</td>\n",
       "      <td> 0.022061</td>\n",
       "      <td> 4670.0</td>\n",
       "      <td> L6</td>\n",
       "      <td> IF</td>\n",
       "      <td>2015-04-21</td>\n",
       "      <td> CCFX</td>\n",
       "      <td> 4679.8</td>\n",
       "      <td> 4574.0</td>\n",
       "      <td>...</td>\n",
       "      <td> 4551.6</td>\n",
       "      <td> 4569.2</td>\n",
       "      <td> IF1512.CCFX</td>\n",
       "      <td> 沪深300股指期货1512</td>\n",
       "      <td> 4653.6</td>\n",
       "      <td> 0</td>\n",
       "      <td> IF1512</td>\n",
       "      <td> 2015-04-21</td>\n",
       "      <td> 3761524920</td>\n",
       "      <td> 2708</td>\n",
       "    </tr>\n",
       "    <tr>\n",
       "      <th>2</th>\n",
       "      <td> 171.4</td>\n",
       "      <td> 154.2</td>\n",
       "      <td> 0.036832</td>\n",
       "      <td> 4825.0</td>\n",
       "      <td> L6</td>\n",
       "      <td> IF</td>\n",
       "      <td>2015-04-22</td>\n",
       "      <td> CCFX</td>\n",
       "      <td> 4826.4</td>\n",
       "      <td> 4673.0</td>\n",
       "      <td>...</td>\n",
       "      <td> 4670.0</td>\n",
       "      <td> 4653.6</td>\n",
       "      <td> IF1512.CCFX</td>\n",
       "      <td> 沪深300股指期货1512</td>\n",
       "      <td> 4807.8</td>\n",
       "      <td> 0</td>\n",
       "      <td> IF1512</td>\n",
       "      <td> 2015-04-22</td>\n",
       "      <td> 2312254740</td>\n",
       "      <td> 1619</td>\n",
       "    </tr>\n",
       "    <tr>\n",
       "      <th>3</th>\n",
       "      <td> -39.6</td>\n",
       "      <td> -23.2</td>\n",
       "      <td>-0.008237</td>\n",
       "      <td> 4768.2</td>\n",
       "      <td> L6</td>\n",
       "      <td> IF</td>\n",
       "      <td>2015-04-23</td>\n",
       "      <td> CCFX</td>\n",
       "      <td> 4859.0</td>\n",
       "      <td> 4760.2</td>\n",
       "      <td>...</td>\n",
       "      <td> 4825.0</td>\n",
       "      <td> 4807.8</td>\n",
       "      <td> IF1512.CCFX</td>\n",
       "      <td> 沪深300股指期货1512</td>\n",
       "      <td> 4784.6</td>\n",
       "      <td> 0</td>\n",
       "      <td> IF1512</td>\n",
       "      <td> 2015-04-23</td>\n",
       "      <td> 2466449460</td>\n",
       "      <td> 1709</td>\n",
       "    </tr>\n",
       "    <tr>\n",
       "      <th>4</th>\n",
       "      <td>  -1.2</td>\n",
       "      <td> -18.0</td>\n",
       "      <td>-0.000251</td>\n",
       "      <td> 4783.4</td>\n",
       "      <td> L6</td>\n",
       "      <td> IF</td>\n",
       "      <td>2015-04-24</td>\n",
       "      <td> CCFX</td>\n",
       "      <td> 4789.6</td>\n",
       "      <td> 4680.0</td>\n",
       "      <td>...</td>\n",
       "      <td> 4768.2</td>\n",
       "      <td> 4784.6</td>\n",
       "      <td> IF1512.CCFX</td>\n",
       "      <td> 沪深300股指期货1512</td>\n",
       "      <td> 4766.6</td>\n",
       "      <td> 0</td>\n",
       "      <td> IF1512</td>\n",
       "      <td> 2015-04-24</td>\n",
       "      <td> 1837103400</td>\n",
       "      <td> 1292</td>\n",
       "    </tr>\n",
       "  </tbody>\n",
       "</table>\n",
       "<p>5 rows × 23 columns</p>\n",
       "</div>"
      ],
      "text/plain": [
       "     CHG   CHG1    CHGPct  closePrice contractMark contractObject       date  \\\n",
       "0  -78.2  -60.6 -0.016891      4551.6           L6             IF 2015-04-20   \n",
       "1  100.8   84.4  0.022061      4670.0           L6             IF 2015-04-21   \n",
       "2  171.4  154.2  0.036832      4825.0           L6             IF 2015-04-22   \n",
       "3  -39.6  -23.2 -0.008237      4768.2           L6             IF 2015-04-23   \n",
       "4   -1.2  -18.0 -0.000251      4783.4           L6             IF 2015-04-24   \n",
       "\n",
       "  exchangeCD  highestPrice  lowestPrice     ...       preClosePrice  \\\n",
       "0       CCFX        4715.6       4536.4     ...                 0.0   \n",
       "1       CCFX        4679.8       4574.0     ...              4551.6   \n",
       "2       CCFX        4826.4       4673.0     ...              4670.0   \n",
       "3       CCFX        4859.0       4760.2     ...              4825.0   \n",
       "4       CCFX        4789.6       4680.0     ...              4768.2   \n",
       "\n",
       "   preSettlePrice        secID   secShortName  settlePrice smainCon  ticker  \\\n",
       "0          4629.8  IF1512.CCFX  沪深300股指期货1512       4569.2        0  IF1512   \n",
       "1          4569.2  IF1512.CCFX  沪深300股指期货1512       4653.6        0  IF1512   \n",
       "2          4653.6  IF1512.CCFX  沪深300股指期货1512       4807.8        0  IF1512   \n",
       "3          4807.8  IF1512.CCFX  沪深300股指期货1512       4784.6        0  IF1512   \n",
       "4          4784.6  IF1512.CCFX  沪深300股指期货1512       4766.6        0  IF1512   \n",
       "\n",
       "    tradeDate  turnoverValue turnoverVol  \n",
       "0  2015-04-20     4106191020        2950  \n",
       "1  2015-04-21     3761524920        2708  \n",
       "2  2015-04-22     2312254740        1619  \n",
       "3  2015-04-23     2466449460        1709  \n",
       "4  2015-04-24     1837103400        1292  \n",
       "\n",
       "[5 rows x 23 columns]"
      ]
     },
     "execution_count": 86,
     "metadata": {},
     "output_type": "execute_result"
    }
   ],
   "source": [
    "ds.fetch('IF1512','20150101','20150701',output='df').head()\n",
    "\n",
    "# 输出dataframe，期货合约为IF1512，包含所有键"
   ]
  },
  {
   "cell_type": "code",
   "execution_count": 87,
   "metadata": {
    "collapsed": false
   },
   "outputs": [
    {
     "name": "stdout",
     "output_type": "stream",
     "text": [
      "<class 'base.Bar_1d'>\n"
     ]
    },
    {
     "data": {
      "text/html": [
       "<div style=\"max-height:1000px;max-width:1500px;overflow:auto;\">\n",
       "<table border=\"1\" class=\"dataframe\">\n",
       "  <thead>\n",
       "    <tr style=\"text-align: right;\">\n",
       "      <th></th>\n",
       "      <th>time</th>\n",
       "      <th>open</th>\n",
       "      <th>close</th>\n",
       "      <th>high</th>\n",
       "      <th>low</th>\n",
       "      <th>volume</th>\n",
       "    </tr>\n",
       "  </thead>\n",
       "  <tbody>\n",
       "    <tr>\n",
       "      <th>0</th>\n",
       "      <td>2015-01-05</td>\n",
       "      <td> 15.99</td>\n",
       "      <td> 16.02</td>\n",
       "      <td> 16.28</td>\n",
       "      <td> 15.60</td>\n",
       "      <td> 286043643</td>\n",
       "    </tr>\n",
       "    <tr>\n",
       "      <th>1</th>\n",
       "      <td>2015-01-06</td>\n",
       "      <td> 15.85</td>\n",
       "      <td> 15.78</td>\n",
       "      <td> 16.39</td>\n",
       "      <td> 15.55</td>\n",
       "      <td> 216642140</td>\n",
       "    </tr>\n",
       "    <tr>\n",
       "      <th>2</th>\n",
       "      <td>2015-01-07</td>\n",
       "      <td> 15.56</td>\n",
       "      <td> 15.48</td>\n",
       "      <td> 15.83</td>\n",
       "      <td> 15.30</td>\n",
       "      <td> 170012067</td>\n",
       "    </tr>\n",
       "    <tr>\n",
       "      <th>3</th>\n",
       "      <td>2015-01-08</td>\n",
       "      <td> 15.50</td>\n",
       "      <td> 14.96</td>\n",
       "      <td> 15.57</td>\n",
       "      <td> 14.90</td>\n",
       "      <td> 140771421</td>\n",
       "    </tr>\n",
       "    <tr>\n",
       "      <th>4</th>\n",
       "      <td>2015-01-09</td>\n",
       "      <td> 14.90</td>\n",
       "      <td> 15.08</td>\n",
       "      <td> 15.87</td>\n",
       "      <td> 14.71</td>\n",
       "      <td> 250850023</td>\n",
       "    </tr>\n",
       "  </tbody>\n",
       "</table>\n",
       "</div>"
      ],
      "text/plain": [
       "        time   open  close   high    low     volume\n",
       "0 2015-01-05  15.99  16.02  16.28  15.60  286043643\n",
       "1 2015-01-06  15.85  15.78  16.39  15.55  216642140\n",
       "2 2015-01-07  15.56  15.48  15.83  15.30  170012067\n",
       "3 2015-01-08  15.50  14.96  15.57  14.90  140771421\n",
       "4 2015-01-09  14.90  15.08  15.87  14.71  250850023"
      ]
     },
     "execution_count": 87,
     "metadata": {},
     "output_type": "execute_result"
    }
   ],
   "source": [
    "bar = ds.fetch('000001','20150101','20150701',output='bar')\n",
    "# 输出Bar\n",
    "print type(bar)\n",
    "bar.head()"
   ]
  },
  {
   "cell_type": "markdown",
   "metadata": {},
   "source": [
    "#### 3.2 update\n",
    "* DataGenerator.update()\n",
    "\n",
    "    * 从数据库中获取存在的最新日期，然后自动更新数据库到今日。\n",
    "    * 根据网速的不同，更新一到五个交易日所需时间为1分钟到200秒不等。\n",
    "    \n",
    "---"
   ]
  },
  {
   "cell_type": "code",
   "execution_count": 33,
   "metadata": {
    "collapsed": false
   },
   "outputs": [
    {
     "data": {
      "text/plain": [
       "{u'closePrice': 13.67,\n",
       " u'date': datetime.datetime(2015, 7, 23, 0, 0),\n",
       " u'openPrice': 13.46}"
      ]
     },
     "execution_count": 33,
     "metadata": {},
     "output_type": "execute_result"
    }
   ],
   "source": [
    "ds.fetch('000001','20150701','20150723',field=['closePrice','openPrice'],output='list')[0]\n",
    "\n",
    "# 由于我们按照默认时间跨度下载，最后记录就是7月20日。（本文档写作时间为7月23日）\n",
    "# 这里手贱在update完之后又敲了一下build。。"
   ]
  },
  {
   "cell_type": "code",
   "execution_count": 88,
   "metadata": {
    "collapsed": false
   },
   "outputs": [],
   "source": [
    "ds.update()"
   ]
  },
  {
   "cell_type": "code",
   "execution_count": 32,
   "metadata": {
    "collapsed": false
   },
   "outputs": [
    {
     "data": {
      "text/plain": [
       "[{u'closePrice': 13.67,\n",
       "  u'date': datetime.datetime(2015, 7, 23, 0, 0),\n",
       "  u'openPrice': 13.46},\n",
       " {u'closePrice': 13.52,\n",
       "  u'date': datetime.datetime(2015, 7, 22, 0, 0),\n",
       "  u'openPrice': 13.49},\n",
       " {u'closePrice': 13.57,\n",
       "  u'date': datetime.datetime(2015, 7, 21, 0, 0),\n",
       "  u'openPrice': 13.51},\n",
       " {u'closePrice': 13.6,\n",
       "  u'date': datetime.datetime(2015, 7, 20, 0, 0),\n",
       "  u'openPrice': 13.8},\n",
       " {u'closePrice': 13.82,\n",
       "  u'date': datetime.datetime(2015, 7, 17, 0, 0),\n",
       "  u'openPrice': 13.66},\n",
       " {u'closePrice': 13.6,\n",
       "  u'date': datetime.datetime(2015, 7, 16, 0, 0),\n",
       "  u'openPrice': 13.6},\n",
       " {u'closePrice': 13.58,\n",
       "  u'date': datetime.datetime(2015, 7, 15, 0, 0),\n",
       "  u'openPrice': 13.66},\n",
       " {u'closePrice': 13.87,\n",
       "  u'date': datetime.datetime(2015, 7, 14, 0, 0),\n",
       "  u'openPrice': 14.2},\n",
       " {u'closePrice': 14.44,\n",
       "  u'date': datetime.datetime(2015, 7, 13, 0, 0),\n",
       "  u'openPrice': 14.4},\n",
       " {u'closePrice': 14.86,\n",
       "  u'date': datetime.datetime(2015, 7, 10, 0, 0),\n",
       "  u'openPrice': 13.85},\n",
       " {u'closePrice': 14.26,\n",
       "  u'date': datetime.datetime(2015, 7, 9, 0, 0),\n",
       "  u'openPrice': 13.19},\n",
       " {u'closePrice': 13.19,\n",
       "  u'date': datetime.datetime(2015, 7, 8, 0, 0),\n",
       "  u'openPrice': 13.81},\n",
       " {u'closePrice': 14.65,\n",
       "  u'date': datetime.datetime(2015, 7, 7, 0, 0),\n",
       "  u'openPrice': 13.66},\n",
       " {u'closePrice': 13.88,\n",
       "  u'date': datetime.datetime(2015, 7, 6, 0, 0),\n",
       "  u'openPrice': 14.3},\n",
       " {u'closePrice': 13.07,\n",
       "  u'date': datetime.datetime(2015, 7, 3, 0, 0),\n",
       "  u'openPrice': 13.98},\n",
       " {u'closePrice': 13.75,\n",
       "  u'date': datetime.datetime(2015, 7, 2, 0, 0),\n",
       "  u'openPrice': 13.9},\n",
       " {u'closePrice': 13.92,\n",
       "  u'date': datetime.datetime(2015, 7, 1, 0, 0),\n",
       "  u'openPrice': 14.35}]"
      ]
     },
     "execution_count": 32,
     "metadata": {},
     "output_type": "execute_result"
    }
   ],
   "source": [
    "ds.fetch('000001','20150701','20150723',field=['closePrice','openPrice'],output='list') \n",
    "\n",
    "# 7月23日数据已更新。"
   ]
  },
  {
   "cell_type": "markdown",
   "metadata": {},
   "source": [
    "#### 3.3 绘图相关\n",
    "\n",
    "* Bar.get_candlist( )\n",
    "\n",
    "    * 我们知道matplotlib.finance.candlestick_ochl要求严格的input形式。为[(t,o,c,h,l),...]这样的数组列表。\n",
    "    * 内建Bar DataFrame加入了一个方法自己形成这种格式输出，方便作K线图。\n",
    "    \n",
    "---"
   ]
  },
  {
   "cell_type": "code",
   "execution_count": 35,
   "metadata": {
    "collapsed": false
   },
   "outputs": [
    {
     "data": {
      "text/html": [
       "<div style=\"max-height:1000px;max-width:1500px;overflow:auto;\">\n",
       "<table border=\"1\" class=\"dataframe\">\n",
       "  <thead>\n",
       "    <tr style=\"text-align: right;\">\n",
       "      <th></th>\n",
       "      <th>time</th>\n",
       "      <th>open</th>\n",
       "      <th>close</th>\n",
       "      <th>high</th>\n",
       "      <th>low</th>\n",
       "      <th>volume</th>\n",
       "    </tr>\n",
       "  </thead>\n",
       "  <tbody>\n",
       "    <tr>\n",
       "      <th>0</th>\n",
       "      <td>2015-01-05</td>\n",
       "      <td> 15.99</td>\n",
       "      <td> 16.02</td>\n",
       "      <td> 16.28</td>\n",
       "      <td> 15.60</td>\n",
       "      <td> 286043643</td>\n",
       "    </tr>\n",
       "    <tr>\n",
       "      <th>1</th>\n",
       "      <td>2015-01-06</td>\n",
       "      <td> 15.85</td>\n",
       "      <td> 15.78</td>\n",
       "      <td> 16.39</td>\n",
       "      <td> 15.55</td>\n",
       "      <td> 216642140</td>\n",
       "    </tr>\n",
       "    <tr>\n",
       "      <th>2</th>\n",
       "      <td>2015-01-07</td>\n",
       "      <td> 15.56</td>\n",
       "      <td> 15.48</td>\n",
       "      <td> 15.83</td>\n",
       "      <td> 15.30</td>\n",
       "      <td> 170012067</td>\n",
       "    </tr>\n",
       "    <tr>\n",
       "      <th>3</th>\n",
       "      <td>2015-01-08</td>\n",
       "      <td> 15.50</td>\n",
       "      <td> 14.96</td>\n",
       "      <td> 15.57</td>\n",
       "      <td> 14.90</td>\n",
       "      <td> 140771421</td>\n",
       "    </tr>\n",
       "    <tr>\n",
       "      <th>4</th>\n",
       "      <td>2015-01-09</td>\n",
       "      <td> 14.90</td>\n",
       "      <td> 15.08</td>\n",
       "      <td> 15.87</td>\n",
       "      <td> 14.71</td>\n",
       "      <td> 250850023</td>\n",
       "    </tr>\n",
       "  </tbody>\n",
       "</table>\n",
       "</div>"
      ],
      "text/plain": [
       "        time   open  close   high    low     volume\n",
       "0 2015-01-05  15.99  16.02  16.28  15.60  286043643\n",
       "1 2015-01-06  15.85  15.78  16.39  15.55  216642140\n",
       "2 2015-01-07  15.56  15.48  15.83  15.30  170012067\n",
       "3 2015-01-08  15.50  14.96  15.57  14.90  140771421\n",
       "4 2015-01-09  14.90  15.08  15.87  14.71  250850023"
      ]
     },
     "execution_count": 35,
     "metadata": {},
     "output_type": "execute_result"
    }
   ],
   "source": [
    "bar.head()"
   ]
  },
  {
   "cell_type": "code",
   "execution_count": 42,
   "metadata": {
    "collapsed": false
   },
   "outputs": [
    {
     "data": {
      "text/plain": [
       "[[0.0, 15.99, 16.02, 16.28, 15.6],\n",
       " [1.0, 15.85, 15.78, 16.39, 15.55],\n",
       " [2.0, 15.56, 15.48, 15.83, 15.3],\n",
       " [3.0, 15.5, 14.96, 15.57, 14.9],\n",
       " [4.0, 14.9, 15.08, 15.87, 14.71]]"
      ]
     },
     "execution_count": 42,
     "metadata": {},
     "output_type": "execute_result"
    }
   ],
   "source": [
    "candle = bar.get_candlist()\n",
    "candle[0:5]"
   ]
  },
  {
   "cell_type": "code",
   "execution_count": 70,
   "metadata": {
    "collapsed": false
   },
   "outputs": [
    {
     "name": "stdout",
     "output_type": "stream",
     "text": [
      "Finished in 0.437673091888 seconds.\n"
     ]
    },
    {
     "data": {
      "image/png": "[encoded data removed]",
      "text/plain": [
       "<matplotlib.figure.Figure at 0x111690c10>"
      ]
     },
     "metadata": {},
     "output_type": "display_data"
    }
   ],
   "source": [
    "start_time = time.time()\n",
    "\n",
    "%matplotlib inline\n",
    "import matplotlib.pyplot as plt\n",
    "from matplotlib.finance import candlestick_ochl\n",
    "\n",
    "bar = ds.fetch('000100','20141001','20150601',output='bar')\n",
    "quotes = bar.get_candlist()\n",
    "fig = plt.figure(figsize=(16,10))\n",
    "ax = plt.subplot(111)\n",
    "candlestick_ochl(ax, quotes, width=0.7, colorup='#5998ff', colordown='#07000d')\n",
    "ax.set_xlim([0, len(quotes)])\n",
    "\n",
    "print 'Finished in',time.time()-start_time,'seconds.'"
   ]
  },
  {
   "cell_type": "markdown",
   "metadata": {},
   "source": [
    "\n",
    "* Resampler.rspfbar_date(self, rate)\n",
    "\n",
    "    * 对Bar数据进行再取样。rate＝取样率。\n",
    "    * 仍在测试中。\n",
    "    \n",
    "---"
   ]
  },
  {
   "cell_type": "code",
   "execution_count": 83,
   "metadata": {
    "collapsed": false
   },
   "outputs": [
    {
     "data": {
      "text/plain": [
       "(0, 23)"
      ]
     },
     "execution_count": 83,
     "metadata": {},
     "output_type": "execute_result"
    },
    {
     "data": {
      "image/png": "[encoded data removed]",
      "text/plain": [
       "<matplotlib.figure.Figure at 0x1112f9250>"
      ]
     },
     "metadata": {},
     "output_type": "display_data"
    }
   ],
   "source": [
    "rs = Resampler()\n",
    "rs.load_bars(bar)\n",
    "newbar1 = Bar(rs.rspfbar_date(3))\n",
    "newbar2 = Bar(rs.rspfbar_date(7))\n",
    "\n",
    "quotes1 = newbar1.get_candlist()\n",
    "quotes2 = newbar2.get_candlist()\n",
    "fig = plt.figure(figsize=(10,10))\n",
    "ax1 = plt.subplot(211)\n",
    "ax2 = plt.subplot(212)\n",
    "candlestick_ochl(ax1, quotes1, width=0.7, colorup='#5998ff', colordown='#07000d')\n",
    "candlestick_ochl(ax2, quotes2, width=0.7, colorup='#5998ff', colordown='#07000d')\n",
    "ax1.set_xlim([0, len(quotes1)])\n",
    "ax2.set_xlim([0, len(quotes2)])"
   ]
  },
  {
   "cell_type": "code",
   "execution_count": null,
   "metadata": {
    "collapsed": true
   },
   "outputs": [],
   "source": []
  }
 ],
 "metadata": {
  "kernelspec": {
   "display_name": "Python 2",
   "language": "python",
   "name": "python2"
  },
  "language_info": {
   "codemirror_mode": {
    "name": "ipython",
    "version": 2
   },
   "file_extension": ".py",
   "mimetype": "text/x-python",
   "name": "python",
   "nbconvert_exporter": "python",
   "pygments_lexer": "ipython2",
   "version": "2.7.10"
  }
 },
 "nbformat": 4,
 "nbformat_minor": 0
}
